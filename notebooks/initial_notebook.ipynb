{
 "cells": [
  {
   "cell_type": "code",
   "execution_count": 9,
   "metadata": {},
   "outputs": [],
   "source": [
    "import pandas as pd\n",
    "import numpy as np\n",
    "import matplotlib.pyplot as plt\n",
    "\n",
    "import basketball_analysis.players_and_teams.players as players"
   ]
  },
  {
   "cell_type": "code",
   "execution_count": 2,
   "metadata": {},
   "outputs": [
    {
     "data": {
      "text/html": [
       "<div>\n",
       "<style scoped>\n",
       "    .dataframe tbody tr th:only-of-type {\n",
       "        vertical-align: middle;\n",
       "    }\n",
       "\n",
       "    .dataframe tbody tr th {\n",
       "        vertical-align: top;\n",
       "    }\n",
       "\n",
       "    .dataframe thead th {\n",
       "        text-align: right;\n",
       "    }\n",
       "</style>\n",
       "<table border=\"1\" class=\"dataframe\">\n",
       "  <thead>\n",
       "    <tr style=\"text-align: right;\">\n",
       "      <th></th>\n",
       "      <th>game_id</th>\n",
       "      <th>season</th>\n",
       "      <th>season_type</th>\n",
       "      <th>game_date</th>\n",
       "      <th>game_date_time</th>\n",
       "      <th>athlete_id</th>\n",
       "      <th>athlete_display_name</th>\n",
       "      <th>team_id</th>\n",
       "      <th>team_name</th>\n",
       "      <th>team_location</th>\n",
       "      <th>...</th>\n",
       "      <th>team_score</th>\n",
       "      <th>opponent_team_id</th>\n",
       "      <th>opponent_team_name</th>\n",
       "      <th>opponent_team_location</th>\n",
       "      <th>opponent_team_display_name</th>\n",
       "      <th>opponent_team_abbreviation</th>\n",
       "      <th>opponent_team_logo</th>\n",
       "      <th>opponent_team_color</th>\n",
       "      <th>opponent_team_alternate_color</th>\n",
       "      <th>opponent_team_score</th>\n",
       "    </tr>\n",
       "  </thead>\n",
       "  <tbody>\n",
       "    <tr>\n",
       "      <th>0</th>\n",
       "      <td>401578574</td>\n",
       "      <td>2023</td>\n",
       "      <td>3</td>\n",
       "      <td>2023-10-18</td>\n",
       "      <td>2023-10-19T00:00:00Z</td>\n",
       "      <td>924</td>\n",
       "      <td>Alysha Clark</td>\n",
       "      <td>17</td>\n",
       "      <td>Aces</td>\n",
       "      <td>Las Vegas</td>\n",
       "      <td>...</td>\n",
       "      <td>70</td>\n",
       "      <td>9</td>\n",
       "      <td>Liberty</td>\n",
       "      <td>New York</td>\n",
       "      <td>New York Liberty</td>\n",
       "      <td>NY</td>\n",
       "      <td>https://a.espncdn.com/i/teamlogos/wnba/500/ny.png</td>\n",
       "      <td>86cebc</td>\n",
       "      <td>000000</td>\n",
       "      <td>69</td>\n",
       "    </tr>\n",
       "    <tr>\n",
       "      <th>1</th>\n",
       "      <td>401578574</td>\n",
       "      <td>2023</td>\n",
       "      <td>3</td>\n",
       "      <td>2023-10-18</td>\n",
       "      <td>2023-10-19T00:00:00Z</td>\n",
       "      <td>3149391</td>\n",
       "      <td>A'ja Wilson</td>\n",
       "      <td>17</td>\n",
       "      <td>Aces</td>\n",
       "      <td>Las Vegas</td>\n",
       "      <td>...</td>\n",
       "      <td>70</td>\n",
       "      <td>9</td>\n",
       "      <td>Liberty</td>\n",
       "      <td>New York</td>\n",
       "      <td>New York Liberty</td>\n",
       "      <td>NY</td>\n",
       "      <td>https://a.espncdn.com/i/teamlogos/wnba/500/ny.png</td>\n",
       "      <td>86cebc</td>\n",
       "      <td>000000</td>\n",
       "      <td>69</td>\n",
       "    </tr>\n",
       "    <tr>\n",
       "      <th>2</th>\n",
       "      <td>401578574</td>\n",
       "      <td>2023</td>\n",
       "      <td>3</td>\n",
       "      <td>2023-10-18</td>\n",
       "      <td>2023-10-19T00:00:00Z</td>\n",
       "      <td>3888043</td>\n",
       "      <td>Cayla George</td>\n",
       "      <td>17</td>\n",
       "      <td>Aces</td>\n",
       "      <td>Las Vegas</td>\n",
       "      <td>...</td>\n",
       "      <td>70</td>\n",
       "      <td>9</td>\n",
       "      <td>Liberty</td>\n",
       "      <td>New York</td>\n",
       "      <td>New York Liberty</td>\n",
       "      <td>NY</td>\n",
       "      <td>https://a.espncdn.com/i/teamlogos/wnba/500/ny.png</td>\n",
       "      <td>86cebc</td>\n",
       "      <td>000000</td>\n",
       "      <td>69</td>\n",
       "    </tr>\n",
       "    <tr>\n",
       "      <th>3</th>\n",
       "      <td>401578574</td>\n",
       "      <td>2023</td>\n",
       "      <td>3</td>\n",
       "      <td>2023-10-18</td>\n",
       "      <td>2023-10-19T00:00:00Z</td>\n",
       "      <td>3065570</td>\n",
       "      <td>Kelsey Plum</td>\n",
       "      <td>17</td>\n",
       "      <td>Aces</td>\n",
       "      <td>Las Vegas</td>\n",
       "      <td>...</td>\n",
       "      <td>70</td>\n",
       "      <td>9</td>\n",
       "      <td>Liberty</td>\n",
       "      <td>New York</td>\n",
       "      <td>New York Liberty</td>\n",
       "      <td>NY</td>\n",
       "      <td>https://a.espncdn.com/i/teamlogos/wnba/500/ny.png</td>\n",
       "      <td>86cebc</td>\n",
       "      <td>000000</td>\n",
       "      <td>69</td>\n",
       "    </tr>\n",
       "    <tr>\n",
       "      <th>4</th>\n",
       "      <td>401578574</td>\n",
       "      <td>2023</td>\n",
       "      <td>3</td>\n",
       "      <td>2023-10-18</td>\n",
       "      <td>2023-10-19T00:00:00Z</td>\n",
       "      <td>4065870</td>\n",
       "      <td>Jackie Young</td>\n",
       "      <td>17</td>\n",
       "      <td>Aces</td>\n",
       "      <td>Las Vegas</td>\n",
       "      <td>...</td>\n",
       "      <td>70</td>\n",
       "      <td>9</td>\n",
       "      <td>Liberty</td>\n",
       "      <td>New York</td>\n",
       "      <td>New York Liberty</td>\n",
       "      <td>NY</td>\n",
       "      <td>https://a.espncdn.com/i/teamlogos/wnba/500/ny.png</td>\n",
       "      <td>86cebc</td>\n",
       "      <td>000000</td>\n",
       "      <td>69</td>\n",
       "    </tr>\n",
       "  </tbody>\n",
       "</table>\n",
       "<p>5 rows × 57 columns</p>\n",
       "</div>"
      ],
      "text/plain": [
       "     game_id  season  season_type   game_date        game_date_time  \\\n",
       "0  401578574    2023            3  2023-10-18  2023-10-19T00:00:00Z   \n",
       "1  401578574    2023            3  2023-10-18  2023-10-19T00:00:00Z   \n",
       "2  401578574    2023            3  2023-10-18  2023-10-19T00:00:00Z   \n",
       "3  401578574    2023            3  2023-10-18  2023-10-19T00:00:00Z   \n",
       "4  401578574    2023            3  2023-10-18  2023-10-19T00:00:00Z   \n",
       "\n",
       "   athlete_id athlete_display_name  team_id team_name team_location  ...  \\\n",
       "0         924         Alysha Clark       17      Aces     Las Vegas  ...   \n",
       "1     3149391          A'ja Wilson       17      Aces     Las Vegas  ...   \n",
       "2     3888043         Cayla George       17      Aces     Las Vegas  ...   \n",
       "3     3065570          Kelsey Plum       17      Aces     Las Vegas  ...   \n",
       "4     4065870         Jackie Young       17      Aces     Las Vegas  ...   \n",
       "\n",
       "  team_score  opponent_team_id  opponent_team_name  opponent_team_location  \\\n",
       "0         70                 9             Liberty                New York   \n",
       "1         70                 9             Liberty                New York   \n",
       "2         70                 9             Liberty                New York   \n",
       "3         70                 9             Liberty                New York   \n",
       "4         70                 9             Liberty                New York   \n",
       "\n",
       "   opponent_team_display_name  opponent_team_abbreviation  \\\n",
       "0            New York Liberty                          NY   \n",
       "1            New York Liberty                          NY   \n",
       "2            New York Liberty                          NY   \n",
       "3            New York Liberty                          NY   \n",
       "4            New York Liberty                          NY   \n",
       "\n",
       "                                  opponent_team_logo  opponent_team_color  \\\n",
       "0  https://a.espncdn.com/i/teamlogos/wnba/500/ny.png               86cebc   \n",
       "1  https://a.espncdn.com/i/teamlogos/wnba/500/ny.png               86cebc   \n",
       "2  https://a.espncdn.com/i/teamlogos/wnba/500/ny.png               86cebc   \n",
       "3  https://a.espncdn.com/i/teamlogos/wnba/500/ny.png               86cebc   \n",
       "4  https://a.espncdn.com/i/teamlogos/wnba/500/ny.png               86cebc   \n",
       "\n",
       "   opponent_team_alternate_color  opponent_team_score  \n",
       "0                         000000                   69  \n",
       "1                         000000                   69  \n",
       "2                         000000                   69  \n",
       "3                         000000                   69  \n",
       "4                         000000                   69  \n",
       "\n",
       "[5 rows x 57 columns]"
      ]
     },
     "execution_count": 2,
     "metadata": {},
     "output_type": "execute_result"
    }
   ],
   "source": [
    "boxscore_2023 = pd.read_csv('../data/player_box_2023.csv')\n",
    "boxscore_2023.head()"
   ]
  },
  {
   "cell_type": "code",
   "execution_count": 3,
   "metadata": {},
   "outputs": [
    {
     "data": {
      "text/plain": [
       "164"
      ]
     },
     "execution_count": 3,
     "metadata": {},
     "output_type": "execute_result"
    }
   ],
   "source": [
    "num_players = boxscore_2023['athlete_id'].nunique()\n",
    "num_players"
   ]
  },
  {
   "cell_type": "code",
   "execution_count": 17,
   "metadata": {},
   "outputs": [],
   "source": [
    "player = players.PlayerSingleSeason(box_score_data=boxscore_2023, player_name='Jewell Loyd')"
   ]
  },
  {
   "cell_type": "code",
   "execution_count": null,
   "metadata": {},
   "outputs": [],
   "source": [
    "player.__dict__"
   ]
  },
  {
   "cell_type": "code",
   "execution_count": 19,
   "metadata": {},
   "outputs": [
    {
     "data": {
      "text/plain": [
       "[<matplotlib.lines.Line2D at 0x1279437d0>]"
      ]
     },
     "execution_count": 19,
     "metadata": {},
     "output_type": "execute_result"
    },
    {
     "data": {
      "image/png": "[encoded data removed]",
      "text/plain": [
       "<Figure size 640x480 with 1 Axes>"
      ]
     },
     "metadata": {},
     "output_type": "display_data"
    }
   ],
   "source": [
    "plt.plot(player.plus_minus, player.team_scores, 'o')"
   ]
  }
 ],
 "metadata": {
  "kernelspec": {
   "display_name": "bball",
   "language": "python",
   "name": "python3"
  },
  "language_info": {
   "codemirror_mode": {
    "name": "ipython",
    "version": 3
   },
   "file_extension": ".py",
   "mimetype": "text/x-python",
   "name": "python",
   "nbconvert_exporter": "python",
   "pygments_lexer": "ipython3",
   "version": "3.11.8"
  }
 },
 "nbformat": 4,
 "nbformat_minor": 2
}
