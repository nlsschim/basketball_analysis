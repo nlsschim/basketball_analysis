{
 "cells": [
  {
   "cell_type": "code",
   "execution_count": null,
   "metadata": {},
   "outputs": [],
   "source": [
    "import pandas as pd\n",
    "import numpy as np\n",
    "import matplotlib.pyplot as plt\n",
    "\n",
    "import basketball_analysis.players_and_teams.players as players"
   ]
  },
  {
   "cell_type": "code",
   "execution_count": null,
   "metadata": {},
   "outputs": [],
   "source": [
    "boxscore_2023 = pd.read_csv('../data/player_box_2023.csv')\n",
    "boxscore_2023.head()"
   ]
  },
  {
   "cell_type": "code",
   "execution_count": null,
   "metadata": {},
   "outputs": [],
   "source": [
    "player = players.PlayerSingleSeason(box_score_data=boxscore_2023, player_name='Jewell Loyd')"
   ]
  },
  {
   "cell_type": "code",
   "execution_count": null,
   "metadata": {},
   "outputs": [],
   "source": [
    "player.__dict__"
   ]
  },
  {
   "cell_type": "code",
   "execution_count": null,
   "metadata": {},
   "outputs": [],
   "source": [
    "fgp = player.get_true_shooting_percentage()\n",
    "fgp"
   ]
  },
  {
   "cell_type": "code",
   "execution_count": null,
   "metadata": {},
   "outputs": [],
   "source": [
    "true_shooting_percentage_list = []\n",
    "for player in boxscore_2023['athlete_display_name'].unique():\n",
    "    player = players.PlayerSingleSeason(box_score_data=boxscore_2023, player_name=player)\n",
    "    if player.minutes.sum() > 500:\n",
    "        true_shooting_percentage_list.append(player.get_true_shooting_percentage())"
   ]
  },
  {
   "cell_type": "code",
   "execution_count": null,
   "metadata": {},
   "outputs": [],
   "source": [
    "len(true_shooting_percentage_list)"
   ]
  },
  {
   "cell_type": "code",
   "execution_count": null,
   "metadata": {},
   "outputs": [],
   "source": [
    "plt.hist(true_shooting_percentage_list, bins=20)"
   ]
  },
  {
   "cell_type": "code",
   "execution_count": null,
   "metadata": {},
   "outputs": [],
   "source": [
    "points_sum = np.sum(player.points)\n",
    "points_sum\n",
    "        # fga_sum = self.field_goals_attempted.sum()\n",
    "        # fta_sum = self.free_throws_attempted.sum()"
   ]
  },
  {
   "cell_type": "markdown",
   "metadata": {},
   "source": [
    "# Team possession estimator"
   ]
  },
  {
   "cell_type": "code",
   "execution_count": null,
   "metadata": {},
   "outputs": [],
   "source": [
    "df = boxscore_2023[boxscore_2023['team_abbreviation'] == 'SEA']\n",
    "game_list = df['game_id'].unique()"
   ]
  },
  {
   "cell_type": "code",
   "execution_count": null,
   "metadata": {},
   "outputs": [],
   "source": [
    "game_0 = boxscore_2023[boxscore_2023['game_id'] == game_list[0]]\n",
    "fga = game_0['field_goals_attempted'].sum()\n",
    "fta = game_0['free_throws_attempted'].sum()\n",
    "turnovers = game_0['turnovers'].sum()"
   ]
  },
  {
   "cell_type": "markdown",
   "metadata": {},
   "source": [
    "# play by play analysis"
   ]
  },
  {
   "cell_type": "code",
   "execution_count": null,
   "metadata": {},
   "outputs": [],
   "source": [
    "play_by_play_2023 = pd.read_csv('../data/play_by_play_2023.csv')\n",
    "play_by_play_2023['game_id'].unique()[0]"
   ]
  },
  {
   "cell_type": "code",
   "execution_count": null,
   "metadata": {},
   "outputs": [],
   "source": [
    "game_0_play_by_play = play_by_play_2023[play_by_play_2023['game_id'] == game_list[0]]\n",
    "game_0_play_by_play['type_id']"
   ]
  },
  {
   "cell_type": "code",
   "execution_count": null,
   "metadata": {},
   "outputs": [],
   "source": [
    "game_0_play_by_play[game_0_play_by_play['type_id'] == 99]"
   ]
  }
 ],
 "metadata": {
  "kernelspec": {
   "display_name": "bball",
   "language": "python",
   "name": "python3"
  },
  "language_info": {
   "codemirror_mode": {
    "name": "ipython",
    "version": 3
   },
   "file_extension": ".py",
   "mimetype": "text/x-python",
   "name": "python",
   "nbconvert_exporter": "python",
   "pygments_lexer": "ipython3",
   "version": "3.11.8"
  }
 },
 "nbformat": 4,
 "nbformat_minor": 2
}
